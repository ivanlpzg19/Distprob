{
 "cells": [
  {
   "cell_type": "code",
   "execution_count": 104,
   "id": "8bb80126-9073-4bac-b02b-5444c338824a",
   "metadata": {},
   "outputs": [],
   "source": [
    "import numpy as np\n",
    "import pandas as pd\n",
    "import scipy as sp\n",
    "import scipy.stats as stats\n",
    "from scipy.stats import hypergeom\n",
    "import matplotlib.pyplot as plt"
   ]
  },
  {
   "cell_type": "markdown",
   "id": "a247cec7-2e51-4d10-a6e3-ba3146fb5a8c",
   "metadata": {},
   "source": [
    "## Ejerecicio 1"
   ]
  },
  {
   "cell_type": "code",
   "execution_count": 2,
   "id": "ae816813-1889-4261-9164-18f912bbb2de",
   "metadata": {},
   "outputs": [
    {
     "data": {
      "text/plain": [
       "<scipy.stats._distn_infrastructure.rv_frozen at 0x21cfe0dc588>"
      ]
     },
     "execution_count": 2,
     "metadata": {},
     "output_type": "execute_result"
    }
   ],
   "source": [
    "#dado de 20 caras\n",
    "\n",
    "dado=stats.randint(low=1, high=21)\n",
    "dado"
   ]
  },
  {
   "cell_type": "markdown",
   "id": "83c9603b-ca70-4382-8877-04a399eaf85d",
   "metadata": {
    "tags": []
   },
   "source": [
    "## TIPS\n",
    "\n",
    "CDF; Mayor o igual/ Menor o igual\n",
    "\n",
    "PMF; con Igual"
   ]
  },
  {
   "cell_type": "code",
   "execution_count": 3,
   "id": "28ede62c-58f7-44aa-a3a2-3fb53c0be7e6",
   "metadata": {},
   "outputs": [
    {
     "data": {
      "text/plain": [
       "0.05"
      ]
     },
     "execution_count": 3,
     "metadata": {},
     "output_type": "execute_result"
    }
   ],
   "source": [
    "#P(Obtener un número entre 6 y 9)\n",
    "\n",
    "dado.pmf(6)"
   ]
  },
  {
   "cell_type": "code",
   "execution_count": 4,
   "id": "6533ae20-f8ba-430e-8183-8a16a145c254",
   "metadata": {},
   "outputs": [
    {
     "data": {
      "text/plain": [
       "0.05"
      ]
     },
     "execution_count": 4,
     "metadata": {},
     "output_type": "execute_result"
    }
   ],
   "source": [
    "dado.pmf(7)"
   ]
  },
  {
   "cell_type": "code",
   "execution_count": 5,
   "id": "32066c0e-1684-4374-b7a6-4d7ba948e902",
   "metadata": {},
   "outputs": [
    {
     "data": {
      "text/plain": [
       "0.05"
      ]
     },
     "execution_count": 5,
     "metadata": {},
     "output_type": "execute_result"
    }
   ],
   "source": [
    "dado.pmf(8)"
   ]
  },
  {
   "cell_type": "code",
   "execution_count": 6,
   "id": "d5fa42d0-b4f2-4a8c-b799-589d9555e80e",
   "metadata": {},
   "outputs": [
    {
     "data": {
      "text/plain": [
       "0.05"
      ]
     },
     "execution_count": 6,
     "metadata": {},
     "output_type": "execute_result"
    }
   ],
   "source": [
    "dado.pmf(9)"
   ]
  },
  {
   "cell_type": "code",
   "execution_count": 7,
   "id": "383a9fc0-69bb-453f-bf79-ec4c7dfa49ea",
   "metadata": {},
   "outputs": [
    {
     "data": {
      "text/plain": [
       "0.2"
      ]
     },
     "execution_count": 7,
     "metadata": {},
     "output_type": "execute_result"
    }
   ],
   "source": [
    "dado.pmf([6,7,8,9]).sum()"
   ]
  },
  {
   "cell_type": "code",
   "execution_count": 8,
   "id": "4b827d10-4a7a-40a9-b69d-a001e7764837",
   "metadata": {},
   "outputs": [
    {
     "data": {
      "text/plain": [
       "0.44999999999999996"
      ]
     },
     "execution_count": 8,
     "metadata": {},
     "output_type": "execute_result"
    }
   ],
   "source": [
    "#Parte 1.2 (Obtener al menos 12)\n",
    "1-(dado.cdf(11))"
   ]
  },
  {
   "cell_type": "code",
   "execution_count": 9,
   "id": "903393a1-bebf-42d3-9eb9-c39fb9b8dcb7",
   "metadata": {},
   "outputs": [
    {
     "data": {
      "text/plain": [
       "0.15"
      ]
     },
     "execution_count": 9,
     "metadata": {},
     "output_type": "execute_result"
    }
   ],
   "source": [
    "#Parte 1.3(Obtener 3 o menos)\n",
    "dado.cdf(3)"
   ]
  },
  {
   "cell_type": "code",
   "execution_count": 10,
   "id": "d9f6e573-0a26-403c-882a-7f463bfe41ab",
   "metadata": {},
   "outputs": [
    {
     "name": "stdout",
     "output_type": "stream",
     "text": [
      "lanzamiento # 0 : 11\n",
      "lanzamiento # 1 : 9\n",
      "lanzamiento # 2 : 20\n",
      "lanzamiento # 3 : 15\n",
      "lanzamiento # 4 : 8\n",
      "lanzamiento # 5 : 9\n",
      "lanzamiento # 6 : 4\n",
      "lanzamiento # 7 : 7\n",
      "lanzamiento # 8 : 16\n",
      "lanzamiento # 9 : 20\n"
     ]
    }
   ],
   "source": [
    "#Lanzamiento de dado n veces\n",
    "\n",
    "for i in range(10):\n",
    "    print(\"lanzamiento #\",i,\":\",dado.rvs())"
   ]
  },
  {
   "cell_type": "code",
   "execution_count": 11,
   "id": "999f333c-0b9a-45e0-8788-588e3dbdfcca",
   "metadata": {},
   "outputs": [
    {
     "data": {
      "text/plain": [
       "(0.0, 1.0)"
      ]
     },
     "execution_count": 11,
     "metadata": {},
     "output_type": "execute_result"
    },
    {
     "data": {
      "image/png": "[encoded data removed]",
      "text/plain": [
       "<Figure size 432x288 with 1 Axes>"
      ]
     },
     "metadata": {
      "needs_background": "light"
     },
     "output_type": "display_data"
    }
   ],
   "source": [
    "#Parte 1.4 Graficar la Función de Densidad de Probabilidad PMF\n",
    "plt.bar(range(0,21),dado.pmf(range(0,21)))\n",
    "plt.ylim([0,1])"
   ]
  },
  {
   "cell_type": "markdown",
   "id": "1f64f756-e6e6-4457-8cc1-6d3445061df2",
   "metadata": {},
   "source": [
    "## Ejercicio 2\n"
   ]
  },
  {
   "cell_type": "code",
   "execution_count": 2,
   "id": "6a0bd623-b136-431e-bfd8-74b7bc378bfa",
   "metadata": {},
   "outputs": [
    {
     "data": {
      "text/plain": [
       "<scipy.stats._distn_infrastructure.rv_frozen at 0x1367fd77710>"
      ]
     },
     "execution_count": 2,
     "metadata": {},
     "output_type": "execute_result"
    }
   ],
   "source": [
    "#Apagador\n",
    "\n",
    "apa=stats.randint(low=1, high=16)\n",
    "apa"
   ]
  },
  {
   "cell_type": "code",
   "execution_count": 3,
   "id": "cd119817-0fb4-472c-ada6-da8697396681",
   "metadata": {},
   "outputs": [
    {
     "data": {
      "text/plain": [
       "0.06666666666666667"
      ]
     },
     "execution_count": 3,
     "metadata": {},
     "output_type": "execute_result"
    }
   ],
   "source": [
    "#P(Funcione 9 veces)\n",
    "apa.pmf(9)"
   ]
  },
  {
   "cell_type": "code",
   "execution_count": 4,
   "id": "9431bfb0-9d89-4885-9006-14d32f9310d1",
   "metadata": {},
   "outputs": [
    {
     "data": {
      "text/plain": [
       "0.8"
      ]
     },
     "execution_count": 4,
     "metadata": {},
     "output_type": "execute_result"
    }
   ],
   "source": [
    "#P(Funcione menos de 4 veces)\n",
    "1-(apa.cdf(3))"
   ]
  },
  {
   "cell_type": "code",
   "execution_count": 5,
   "id": "af81b920-71af-4a97-ab85-cceb28a1c160",
   "metadata": {},
   "outputs": [
    {
     "data": {
      "text/plain": [
       "0.8666666666666666"
      ]
     },
     "execution_count": 5,
     "metadata": {},
     "output_type": "execute_result"
    }
   ],
   "source": [
    "#P(Funcione 3 o más veces)\n",
    "apa.pmf([2,3,4,5,6,7,8,9,10,11,12,13,14]).sum()"
   ]
  },
  {
   "cell_type": "code",
   "execution_count": 6,
   "id": "78f8f4d2-1bfe-4159-b834-b0da0b6df1e7",
   "metadata": {},
   "outputs": [
    {
     "data": {
      "text/plain": [
       "(0.0, 1.0)"
      ]
     },
     "execution_count": 6,
     "metadata": {},
     "output_type": "execute_result"
    },
    {
     "data": {
      "image/png": "[encoded data removed]",
      "text/plain": [
       "<Figure size 432x288 with 1 Axes>"
      ]
     },
     "metadata": {
      "needs_background": "light"
     },
     "output_type": "display_data"
    }
   ],
   "source": [
    "#Graficar la Función de Densidad de Probabilidad\n",
    "plt.bar(range(0,16),apa.pmf(range(0,16)))\n",
    "plt.ylim([0,1])"
   ]
  },
  {
   "cell_type": "markdown",
   "id": "bd389b29-d3e3-480a-a66a-318a5a1140e2",
   "metadata": {},
   "source": [
    "## Ejercicio 3"
   ]
  },
  {
   "cell_type": "code",
   "execution_count": 7,
   "id": "3e6ebc41-265e-45da-8c15-4ce7cdc286dd",
   "metadata": {},
   "outputs": [],
   "source": [
    "#P(Estrellar un vitral por hora)\n",
    "vit=stats.poisson(mu=3)"
   ]
  },
  {
   "cell_type": "code",
   "execution_count": 8,
   "id": "6595f5c5-77be-4ca9-981b-e61f361974f3",
   "metadata": {},
   "outputs": [
    {
     "data": {
      "text/plain": [
       "0.14936120510359185"
      ]
     },
     "execution_count": 8,
     "metadata": {},
     "output_type": "execute_result"
    }
   ],
   "source": [
    "vit.pmf(1)"
   ]
  },
  {
   "cell_type": "code",
   "execution_count": 10,
   "id": "8605f0bd-66de-4ca4-b9a7-cbea2ae7dd30",
   "metadata": {},
   "outputs": [
    {
     "data": {
      "text/plain": [
       "0.34086360736141147"
      ]
     },
     "execution_count": 10,
     "metadata": {},
     "output_type": "execute_result"
    }
   ],
   "source": [
    "vit.pmf([4,5,6,7]).sum()"
   ]
  },
  {
   "cell_type": "code",
   "execution_count": 13,
   "id": "cf49df30-53f7-44c1-9341-bbee121ea9b8",
   "metadata": {},
   "outputs": [
    {
     "data": {
      "text/plain": [
       "0.9160820579686966"
      ]
     },
     "execution_count": 13,
     "metadata": {},
     "output_type": "execute_result"
    }
   ],
   "source": [
    "vit.cdf(5)"
   ]
  },
  {
   "cell_type": "code",
   "execution_count": 14,
   "id": "754a0efd-771b-4f05-b277-fdfed408496b",
   "metadata": {},
   "outputs": [
    {
     "data": {
      "text/plain": [
       "<BarContainer object of 15 artists>"
      ]
     },
     "execution_count": 14,
     "metadata": {},
     "output_type": "execute_result"
    },
    {
     "data": {
      "image/png": "[encoded data removed]",
      "text/plain": [
       "<Figure size 432x288 with 1 Axes>"
      ]
     },
     "metadata": {
      "needs_background": "light"
     },
     "output_type": "display_data"
    }
   ],
   "source": [
    "plt.bar(range(0,15),vit.pmf(range(0,15)))"
   ]
  },
  {
   "cell_type": "markdown",
   "id": "36f86b5f-5858-42eb-9957-fcd1cd5a669c",
   "metadata": {},
   "source": [
    "## Ejercicio 4"
   ]
  },
  {
   "cell_type": "code",
   "execution_count": 10,
   "id": "68ad56e6-b972-4e03-b001-5e49456e7fda",
   "metadata": {},
   "outputs": [],
   "source": [
    "# TIP Fórmula original de probabilidad = # de casos favorables/ # de casos total"
   ]
  },
  {
   "cell_type": "code",
   "execution_count": 15,
   "id": "d09b1243-d48b-42eb-8985-4e81ab30c271",
   "metadata": {},
   "outputs": [],
   "source": [
    "df=pd.read_csv(\"sqft.csv\")"
   ]
  },
  {
   "cell_type": "code",
   "execution_count": 16,
   "id": "8fb50c84-1186-4a26-b6dc-ac501f96eb11",
   "metadata": {},
   "outputs": [
    {
     "data": {
      "text/html": [
       "<div>\n",
       "<style scoped>\n",
       "    .dataframe tbody tr th:only-of-type {\n",
       "        vertical-align: middle;\n",
       "    }\n",
       "\n",
       "    .dataframe tbody tr th {\n",
       "        vertical-align: top;\n",
       "    }\n",
       "\n",
       "    .dataframe thead th {\n",
       "        text-align: right;\n",
       "    }\n",
       "</style>\n",
       "<table border=\"1\" class=\"dataframe\">\n",
       "  <thead>\n",
       "    <tr style=\"text-align: right;\">\n",
       "      <th></th>\n",
       "      <th>sqft</th>\n",
       "    </tr>\n",
       "  </thead>\n",
       "  <tbody>\n",
       "    <tr>\n",
       "      <th>0</th>\n",
       "      <td>1788.733268</td>\n",
       "    </tr>\n",
       "    <tr>\n",
       "      <th>1</th>\n",
       "      <td>1763.827324</td>\n",
       "    </tr>\n",
       "    <tr>\n",
       "      <th>2</th>\n",
       "      <td>1651.993341</td>\n",
       "    </tr>\n",
       "    <tr>\n",
       "      <th>3</th>\n",
       "      <td>1603.205624</td>\n",
       "    </tr>\n",
       "    <tr>\n",
       "      <th>4</th>\n",
       "      <td>1472.958266</td>\n",
       "    </tr>\n",
       "  </tbody>\n",
       "</table>\n",
       "</div>"
      ],
      "text/plain": [
       "          sqft\n",
       "0  1788.733268\n",
       "1  1763.827324\n",
       "2  1651.993341\n",
       "3  1603.205624\n",
       "4  1472.958266"
      ]
     },
     "execution_count": 16,
     "metadata": {},
     "output_type": "execute_result"
    }
   ],
   "source": [
    "df.head()"
   ]
  },
  {
   "cell_type": "code",
   "execution_count": 17,
   "id": "2db1b368-ff71-47ef-bfc2-c966409d8128",
   "metadata": {},
   "outputs": [
    {
     "data": {
      "text/plain": [
       "sqft    0.373\n",
       "dtype: float64"
      ]
     },
     "execution_count": 17,
     "metadata": {},
     "output_type": "execute_result"
    }
   ],
   "source": [
    "df[(df['sqft']>805)&(df[\"sqft\"]<855)].count()/len(df)*100"
   ]
  },
  {
   "cell_type": "code",
   "execution_count": 18,
   "id": "455e1280-331b-4032-a71d-f377596cb5c1",
   "metadata": {},
   "outputs": [
    {
     "data": {
      "text/plain": [
       "sqft    0.0\n",
       "dtype: float64"
      ]
     },
     "execution_count": 18,
     "metadata": {},
     "output_type": "execute_result"
    }
   ],
   "source": [
    "df[(df['sqft']>3000)].count()/len(df)*100"
   ]
  },
  {
   "cell_type": "code",
   "execution_count": 19,
   "id": "4b12be22-7244-45cb-a346-1dafb6c5a0e0",
   "metadata": {},
   "outputs": [
    {
     "data": {
      "text/plain": [
       "sqft    0.002\n",
       "dtype: float64"
      ]
     },
     "execution_count": 19,
     "metadata": {},
     "output_type": "execute_result"
    }
   ],
   "source": [
    "df[(df['sqft']<275)].count()/len(df)*100\n"
   ]
  },
  {
   "cell_type": "code",
   "execution_count": 20,
   "id": "1cf3ceb0-5017-4ee8-b55d-b73534f6503a",
   "metadata": {},
   "outputs": [
    {
     "data": {
      "text/plain": [
       "array([[<AxesSubplot:title={'center':'sqft'}>]], dtype=object)"
      ]
     },
     "execution_count": 20,
     "metadata": {},
     "output_type": "execute_result"
    },
    {
     "data": {
      "image/png": "[encoded data removed]",
      "text/plain": [
       "<Figure size 432x288 with 1 Axes>"
      ]
     },
     "metadata": {
      "needs_background": "light"
     },
     "output_type": "display_data"
    }
   ],
   "source": [
    "df.hist()"
   ]
  },
  {
   "cell_type": "markdown",
   "id": "235d7a98-3d07-4a14-9808-98392a0e2b29",
   "metadata": {},
   "source": [
    "## Ejercicio 5"
   ]
  },
  {
   "cell_type": "code",
   "execution_count": 50,
   "id": "6c953254-8297-44e8-a0b2-7bf30e5b5285",
   "metadata": {},
   "outputs": [],
   "source": [
    "#Ejercicio 5.1\n",
    "# Mecanógrafo"
   ]
  },
  {
   "cell_type": "code",
   "execution_count": 38,
   "id": "b15bd4e7-0584-40a8-a33d-55f6b8d0548a",
   "metadata": {},
   "outputs": [],
   "source": [
    "meca=stats.poisson(2)"
   ]
  },
  {
   "cell_type": "code",
   "execution_count": 39,
   "id": "9745d43c-e6f3-40eb-ac21-9a7c040216d5",
   "metadata": {},
   "outputs": [
    {
     "data": {
      "text/plain": [
       "0.1353352832366127"
      ]
     },
     "execution_count": 39,
     "metadata": {},
     "output_type": "execute_result"
    }
   ],
   "source": [
    "meca.pmf(0)"
   ]
  },
  {
   "cell_type": "code",
   "execution_count": 40,
   "id": "144eb51f-e86b-4a0a-b086-327130c25d7e",
   "metadata": {},
   "outputs": [
    {
     "data": {
      "text/plain": [
       "<BarContainer object of 10 artists>"
      ]
     },
     "execution_count": 40,
     "metadata": {},
     "output_type": "execute_result"
    },
    {
     "data": {
      "image/png": "[encoded data removed]",
      "text/plain": [
       "<Figure size 432x288 with 1 Axes>"
      ]
     },
     "metadata": {
      "needs_background": "light"
     },
     "output_type": "display_data"
    }
   ],
   "source": [
    "plt.bar(range(0,10),meca.pmf(range(0,10)))"
   ]
  },
  {
   "cell_type": "code",
   "execution_count": 51,
   "id": "1c846e52-aa33-494c-b7de-7cc96c4327af",
   "metadata": {},
   "outputs": [],
   "source": [
    "#Ejercicio 5.2\n",
    "#Los componentes se embalan en cajas de 20. La probabilidad de que un componente individual sea\n",
    "#defectuoso es del 10%."
   ]
  },
  {
   "cell_type": "code",
   "execution_count": 42,
   "id": "eb466149-2b7e-4006-b904-7388b23edaf8",
   "metadata": {},
   "outputs": [],
   "source": [
    "caja = stats.binom(n=20, p=0.1)"
   ]
  },
  {
   "cell_type": "code",
   "execution_count": 43,
   "id": "0707d814-12e4-4357-ac56-b23621277ee4",
   "metadata": {},
   "outputs": [
    {
     "data": {
      "text/plain": [
       "0.28517980706429813"
      ]
     },
     "execution_count": 43,
     "metadata": {},
     "output_type": "execute_result"
    }
   ],
   "source": [
    "#Que una caja contenga exactamente 2 componentes defectuosos\n",
    "caja.pmf(2)"
   ]
  },
  {
   "cell_type": "code",
   "execution_count": 44,
   "id": "479f4827-66df-467d-882a-a9c2379af591",
   "metadata": {},
   "outputs": [
    {
     "data": {
      "text/plain": [
       "0.6082530018748318"
      ]
     },
     "execution_count": 44,
     "metadata": {},
     "output_type": "execute_result"
    }
   ],
   "source": [
    "#Qué una caja contenga máximo 2 componentes defectuosos\n",
    "1-caja.cdf(1)"
   ]
  },
  {
   "cell_type": "code",
   "execution_count": 47,
   "id": "d72c75d9-8d39-4067-8136-9f94d87cfe8c",
   "metadata": {},
   "outputs": [
    {
     "data": {
      "text/plain": [
       "[<matplotlib.lines.Line2D at 0x1361d2740b8>]"
      ]
     },
     "execution_count": 47,
     "metadata": {},
     "output_type": "execute_result"
    },
    {
     "data": {
      "image/png": "[encoded data removed]",
      "text/plain": [
       "<Figure size 432x288 with 1 Axes>"
      ]
     },
     "metadata": {
      "needs_background": "light"
     },
     "output_type": "display_data"
    }
   ],
   "source": [
    "plt.bar(range(0,20),caja.pmf(range(0,20)))\n",
    "plt.plot(range(0,20),caja.pmf(range(0,20)),marker=\"+\", c=\"r\")"
   ]
  },
  {
   "cell_type": "code",
   "execution_count": 52,
   "id": "93b097d1-6dc2-441f-9b87-6b2f431e9757",
   "metadata": {},
   "outputs": [],
   "source": [
    "#Ejercicios 5.3\n",
    "ppm=30/60\n",
    "bar=stats.expon(ppm)\n"
   ]
  },
  {
   "cell_type": "code",
   "execution_count": 53,
   "id": "ea6cf3ac-4d47-485b-86c9-14f6ed21febd",
   "metadata": {},
   "outputs": [
    {
     "data": {
      "text/plain": [
       "0.0820849986238988"
      ]
     },
     "execution_count": 53,
     "metadata": {},
     "output_type": "execute_result"
    }
   ],
   "source": [
    "bar.pdf(3)"
   ]
  },
  {
   "cell_type": "code",
   "execution_count": 44,
   "id": "de7796f3-938e-44d5-9217-9905b032bdb9",
   "metadata": {},
   "outputs": [
    {
     "data": {
      "text/plain": [
       "<BarContainer object of 30 artists>"
      ]
     },
     "execution_count": 44,
     "metadata": {},
     "output_type": "execute_result"
    },
    {
     "data": {
      "image/png": "[encoded data removed]",
      "text/plain": [
       "<Figure size 432x288 with 1 Axes>"
      ]
     },
     "metadata": {
      "needs_background": "light"
     },
     "output_type": "display_data"
    }
   ],
   "source": [
    "plt.bar(range(0,30),bar.pdf(range(0,30)))"
   ]
  },
  {
   "cell_type": "markdown",
   "id": "e2bc8bdd-661b-4568-aa06-8a29affd38ae",
   "metadata": {},
   "source": [
    "## Ejerecicio 6"
   ]
  },
  {
   "cell_type": "code",
   "execution_count": 54,
   "id": "715f43c3-33d4-4797-bcb0-2b882bdd718c",
   "metadata": {},
   "outputs": [],
   "source": [
    "# Ejercicio 6.1\n"
   ]
  },
  {
   "cell_type": "code",
   "execution_count": 55,
   "id": "e54e2ee2-50d8-47f1-921c-53b61d3bd5e7",
   "metadata": {},
   "outputs": [
    {
     "data": {
      "text/plain": [
       "<matplotlib.collections.PathCollection at 0x1361d0cb048>"
      ]
     },
     "execution_count": 55,
     "metadata": {},
     "output_type": "execute_result"
    },
    {
     "data": {
      "image/png": "[encoded data removed]",
      "text/plain": [
       "<Figure size 432x288 with 1 Axes>"
      ]
     },
     "metadata": {
      "needs_background": "light"
     },
     "output_type": "display_data"
    }
   ],
   "source": [
    "alta=stats.expon(0, scale=2)\n",
    "plt.plot(range(0,15), alta.cdf(range(0,15)))\n",
    "plt.scatter(range(0,15), alta.cdf(range(0,15)))"
   ]
  },
  {
   "cell_type": "code",
   "execution_count": 56,
   "id": "072465bd-4365-4349-893f-a8fb2265b605",
   "metadata": {},
   "outputs": [
    {
     "data": {
      "text/plain": [
       "0.9932620530009145"
      ]
     },
     "execution_count": 56,
     "metadata": {},
     "output_type": "execute_result"
    }
   ],
   "source": [
    "alta.cdf(10)"
   ]
  },
  {
   "cell_type": "code",
   "execution_count": 57,
   "id": "46d487fd-a25a-4d8b-8cdc-6b07372f4ec2",
   "metadata": {},
   "outputs": [
    {
     "data": {
      "text/plain": [
       "0.006737946999085476"
      ]
     },
     "execution_count": 57,
     "metadata": {},
     "output_type": "execute_result"
    }
   ],
   "source": [
    "1-alta.cdf(10)"
   ]
  },
  {
   "cell_type": "code",
   "execution_count": 58,
   "id": "0f8314f2-d374-4481-a712-2dcc8fba0791",
   "metadata": {},
   "outputs": [
    {
     "data": {
      "text/plain": [
       "0.000539035759926838"
      ]
     },
     "execution_count": 58,
     "metadata": {},
     "output_type": "execute_result"
    }
   ],
   "source": [
    "(1-alta.cdf(10))*0.08"
   ]
  },
  {
   "cell_type": "code",
   "execution_count": 59,
   "id": "3a25dc7a-9541-41eb-9471-2ed643103197",
   "metadata": {},
   "outputs": [
    {
     "data": {
      "text/plain": [
       "0.07946096424007316"
      ]
     },
     "execution_count": 59,
     "metadata": {},
     "output_type": "execute_result"
    }
   ],
   "source": [
    "alta.cdf(10)*0.08"
   ]
  },
  {
   "cell_type": "code",
   "execution_count": 60,
   "id": "5a8bda3c-ec03-43ca-896d-61f18c903ef1",
   "metadata": {},
   "outputs": [],
   "source": [
    "# Ejercicio 6.2\n",
    "vuelo=stats.randint(low=10,high=30) #0 =10:00 am;"
   ]
  },
  {
   "cell_type": "code",
   "execution_count": 61,
   "id": "28952277-815a-4c2b-b5f4-27d7d02906be",
   "metadata": {},
   "outputs": [
    {
     "data": {
      "text/plain": [
       "0.05"
      ]
     },
     "execution_count": 61,
     "metadata": {},
     "output_type": "execute_result"
    }
   ],
   "source": [
    "vuelo.pmf(25)"
   ]
  },
  {
   "cell_type": "code",
   "execution_count": 62,
   "id": "1f2a4e18-00a5-4e42-9857-ccd8801f24b5",
   "metadata": {},
   "outputs": [
    {
     "data": {
      "text/plain": [
       "[<matplotlib.lines.Line2D at 0x1361d732a20>]"
      ]
     },
     "execution_count": 62,
     "metadata": {},
     "output_type": "execute_result"
    },
    {
     "data": {
      "image/png": "[encoded data removed]",
      "text/plain": [
       "<Figure size 432x288 with 1 Axes>"
      ]
     },
     "metadata": {
      "needs_background": "light"
     },
     "output_type": "display_data"
    }
   ],
   "source": [
    "plt.plot(range(0,35),vuelo.cdf(range(0,35)))"
   ]
  },
  {
   "cell_type": "code",
   "execution_count": 65,
   "id": "9ea670d0-c10c-49a0-bfad-96f052e5163d",
   "metadata": {},
   "outputs": [],
   "source": [
    "#Solución 2 con stats.uniform\n",
    "\n",
    "vuelo2=stats.uniform(loc=10, scale=15) #scale es a prueba y error --> Desviación estandar"
   ]
  },
  {
   "cell_type": "code",
   "execution_count": 66,
   "id": "92cb7880-e1dc-405e-925b-4577e5d34a9c",
   "metadata": {},
   "outputs": [
    {
     "data": {
      "text/plain": [
       "[<matplotlib.lines.Line2D at 0x1361d7e43c8>]"
      ]
     },
     "execution_count": 66,
     "metadata": {},
     "output_type": "execute_result"
    },
    {
     "data": {
      "image/png": "[encoded data removed]",
      "text/plain": [
       "<Figure size 432x288 with 1 Axes>"
      ]
     },
     "metadata": {
      "needs_background": "light"
     },
     "output_type": "display_data"
    }
   ],
   "source": [
    "plt.plot(range(0,50),vuelo2.cdf(range(0,50)))"
   ]
  },
  {
   "cell_type": "code",
   "execution_count": null,
   "id": "c1395cf8-e80d-4d3e-9a10-440b2acdcfc2",
   "metadata": {},
   "outputs": [],
   "source": []
  },
  {
   "cell_type": "markdown",
   "id": "0f6a6f07-4810-4c77-a693-cbb0915f5646",
   "metadata": {},
   "source": [
    "## Ejercicio 7"
   ]
  },
  {
   "cell_type": "code",
   "execution_count": 70,
   "id": "1be3205c-69cf-4141-8337-91d2bf4a9429",
   "metadata": {},
   "outputs": [
    {
     "data": {
      "text/plain": [
       "<scipy.stats._distn_infrastructure.rv_frozen at 0x1361d8020f0>"
      ]
     },
     "execution_count": 70,
     "metadata": {},
     "output_type": "execute_result"
    }
   ],
   "source": [
    "# Ejercicio 7.1\n",
    "#No maulla 1/5 --> da 10 min de tranquilidad\n",
    "nm=1/5\n",
    "cat=stats.poisson(nm)\n",
    "cat"
   ]
  },
  {
   "cell_type": "code",
   "execution_count": 71,
   "id": "980142b6-765d-4e8b-8772-9e89c5e9578a",
   "metadata": {},
   "outputs": [
    {
     "data": {
      "text/plain": [
       "0.0010916410041039767"
      ]
     },
     "execution_count": 71,
     "metadata": {},
     "output_type": "execute_result"
    }
   ],
   "source": [
    "cat.pmf(3)"
   ]
  },
  {
   "cell_type": "code",
   "execution_count": 81,
   "id": "3059621a-5a3f-4d6d-a819-839454ea2187",
   "metadata": {},
   "outputs": [
    {
     "ename": "AttributeError",
     "evalue": "module 'scipy.stats' has no attribute 'nhypergeom'",
     "output_type": "error",
     "traceback": [
      "\u001b[1;31m---------------------------------------------------------------------------\u001b[0m",
      "\u001b[1;31mAttributeError\u001b[0m                            Traceback (most recent call last)",
      "\u001b[1;32m<ipython-input-81-636b865a3e02>\u001b[0m in \u001b[0;36m<module>\u001b[1;34m\u001b[0m\n\u001b[0;32m      3\u001b[0m \u001b[1;31m#Tenedores buenos =Total/2\u001b[0m\u001b[1;33m\u001b[0m\u001b[1;33m\u001b[0m\u001b[1;33m\u001b[0m\u001b[0m\n\u001b[0;32m      4\u001b[0m \u001b[1;31m#Muestra=5\u001b[0m\u001b[1;33m\u001b[0m\u001b[1;33m\u001b[0m\u001b[1;33m\u001b[0m\u001b[0m\n\u001b[1;32m----> 5\u001b[1;33m \u001b[0mtenedores\u001b[0m\u001b[1;33m=\u001b[0m \u001b[0mstats\u001b[0m\u001b[1;33m.\u001b[0m\u001b[0mnhypergeom\u001b[0m\u001b[1;33m(\u001b[0m\u001b[0mm\u001b[0m\u001b[1;33m=\u001b[0m\u001b[1;36m14\u001b[0m\u001b[1;33m,\u001b[0m\u001b[0mn\u001b[0m\u001b[1;33m=\u001b[0m\u001b[1;36m7\u001b[0m\u001b[1;33m,\u001b[0m\u001b[0mr\u001b[0m\u001b[1;33m=\u001b[0m\u001b[1;36m5\u001b[0m\u001b[1;33m)\u001b[0m\u001b[1;33m\u001b[0m\u001b[1;33m\u001b[0m\u001b[0m\n\u001b[0m",
      "\u001b[1;31mAttributeError\u001b[0m: module 'scipy.stats' has no attribute 'nhypergeom'"
     ]
    }
   ],
   "source": [
    "#Ejercicio 7.2\n",
    "#Total = 14\n",
    "#Tenedores buenos =Total/2\n",
    "#Muestra=5\n",
    "tenedores= stats.nhypergeom(m=14,n=7,r=5)"
   ]
  },
  {
   "cell_type": "code",
   "execution_count": 82,
   "id": "25ebc05e-71a8-4623-87c9-ed33294ee9e9",
   "metadata": {},
   "outputs": [
    {
     "ename": "NameError",
     "evalue": "name 'tenedores' is not defined",
     "output_type": "error",
     "traceback": [
      "\u001b[1;31m---------------------------------------------------------------------------\u001b[0m",
      "\u001b[1;31mNameError\u001b[0m                                 Traceback (most recent call last)",
      "\u001b[1;32m<ipython-input-82-a8cec9d11ea5>\u001b[0m in \u001b[0;36m<module>\u001b[1;34m\u001b[0m\n\u001b[1;32m----> 1\u001b[1;33m \u001b[0mtenedores\u001b[0m\u001b[1;33m.\u001b[0m\u001b[0mpmf\u001b[0m\u001b[1;33m(\u001b[0m\u001b[1;36m2\u001b[0m\u001b[1;33m)\u001b[0m\u001b[1;33m\u001b[0m\u001b[1;33m\u001b[0m\u001b[0m\n\u001b[0m",
      "\u001b[1;31mNameError\u001b[0m: name 'tenedores' is not defined"
     ]
    }
   ],
   "source": [
    "tenedores.pmf(2)"
   ]
  },
  {
   "cell_type": "code",
   "execution_count": null,
   "id": "2fb5a06e-6e62-4e0c-b222-9a9f655fa28f",
   "metadata": {},
   "outputs": [],
   "source": [
    "tenedores.pmf(3)"
   ]
  },
  {
   "cell_type": "markdown",
   "id": "997ef144-df8a-483b-9e6c-a670cb13872f",
   "metadata": {},
   "source": [
    "## Ejercicio 8"
   ]
  },
  {
   "cell_type": "code",
   "execution_count": 83,
   "id": "6fcd202d-ced0-4fde-bc72-8c1876a8fe16",
   "metadata": {},
   "outputs": [],
   "source": [
    "#Ejercicio 8.1"
   ]
  },
  {
   "cell_type": "code",
   "execution_count": 84,
   "id": "01d07bcf-b028-4140-956c-f73875bc2a13",
   "metadata": {},
   "outputs": [],
   "source": [
    "#https://towardsdatascience.com/conditional-probability-with-a-python-example-fd6f5937cd2?gi=ec0e4de7466#:~:text=The%20formula%20for%20conditional%20probability,)%20%2F%20P(B)%20.&text=%7C%20means%20%E2%80%9Cgiven%E2%80%9D.,context%20of%20a%20Venn%20diagram"
   ]
  },
  {
   "cell_type": "code",
   "execution_count": 85,
   "id": "5fbd7093-cab9-41ce-86e0-717993e69950",
   "metadata": {},
   "outputs": [],
   "source": [
    "#Genios\n",
    "#pA=60% genios\n",
    "#pB=70% ac\n",
    "\n",
    "#P(Anb)=40\n",
    "#P Genios que no ama el chocolate\n",
    "#P(A|B) =P(AnB)/P(B)"
   ]
  },
  {
   "cell_type": "code",
   "execution_count": 86,
   "id": "75f3a60d-5d1e-4a72-ad8b-69c758acd6a1",
   "metadata": {},
   "outputs": [
    {
     "data": {
      "text/plain": [
       "0.16"
      ]
     },
     "execution_count": 86,
     "metadata": {},
     "output_type": "execute_result"
    }
   ],
   "source": [
    "P=0.4*(0.7-0.3)\n",
    "P"
   ]
  },
  {
   "cell_type": "code",
   "execution_count": 89,
   "id": "9562e9c4-5f56-446f-a663-a2515eefdf12",
   "metadata": {},
   "outputs": [
    {
     "name": "stdout",
     "output_type": "stream",
     "text": [
      "Lanzamiento  0 : 4\n",
      "Lanzamiento  1 : 4\n",
      "Lanzamiento  2 : 4\n",
      "Lanzamiento  3 : 2\n",
      "Lanzamiento  4 : 4\n",
      "Lanzamiento  5 : 3\n",
      "Lanzamiento  6 : 1\n",
      "Lanzamiento  7 : 2\n",
      "Lanzamiento  8 : 5\n",
      "Lanzamiento  9 : 4\n",
      "Lanzamiento  10 : 4\n",
      "Lanzamiento  11 : 3\n",
      "Lanzamiento  12 : 5\n",
      "Lanzamiento  13 : 2\n",
      "Lanzamiento  14 : 1\n",
      "Lanzamiento  15 : 4\n",
      "Lanzamiento  16 : 4\n",
      "Lanzamiento  17 : 3\n",
      "Lanzamiento  18 : 2\n",
      "Lanzamiento  19 : 3\n",
      "Lanzamiento  20 : 1\n",
      "Lanzamiento  21 : 1\n",
      "Lanzamiento  22 : 5\n",
      "Lanzamiento  23 : 1\n",
      "Lanzamiento  24 : 2\n",
      "Lanzamiento  25 : 1\n",
      "Lanzamiento  26 : 4\n",
      "Lanzamiento  27 : 5\n",
      "Lanzamiento  28 : 4\n",
      "Lanzamiento  29 : 1\n"
     ]
    }
   ],
   "source": [
    "#Ejercicio 8.1\n",
    "#P de obtener 11 o 12\n",
    "dado=stats.randint(low=1,high=6)\n",
    "for i in range(30):\n",
    "    print(\"Lanzamiento \",i,':', dado.rvs())"
   ]
  },
  {
   "cell_type": "code",
   "execution_count": 90,
   "id": "084f3fa5-7936-43ea-9f35-0a10cad8e438",
   "metadata": {},
   "outputs": [
    {
     "name": "stdout",
     "output_type": "stream",
     "text": [
      "Es más probable obtener la suma de 11: 12.5% que la suma de 12: 11.6%\n"
     ]
    }
   ],
   "source": [
    "suma11=[]\n",
    "suma12=[]\n",
    "\n",
    "for i in range(1,7):\n",
    "    for j in range(1,7):\n",
    "        for k in range(1,7):\n",
    "            suma=i+j+k\n",
    "            if suma==11:\n",
    "                suma11.append(suma)\n",
    "            elif suma==12:\n",
    "                suma12.append(suma)\n",
    "                \n",
    "total=6**3\n",
    "prob11=np.round(len(suma11)/total*100,1)\n",
    "prob12=np.round(len(suma12)/total*100,1)\n",
    "\n",
    "if prob11>prob12:\n",
    "    print(f'Es más probable obtener la suma de 11: {prob11}% que la suma de 12: {prob12}%')\n",
    "else:\n",
    "    print(f'Es más probable obtener la suma de 12: {prob12}% que la suma de 11: {prob11}%')"
   ]
  },
  {
   "cell_type": "code",
   "execution_count": 91,
   "id": "b46e792c-419e-4834-80b7-db7f1dc0d38f",
   "metadata": {},
   "outputs": [],
   "source": [
    "#Ejercicio 8.3\n",
    "#Estudiantes PERMUTACIÓN\n",
    "tot=90\n",
    "group=3\n",
    "epc=tot/group\n",
    "jj=2\n",
    "\n",
    "def factorial (n):\n",
    "    if n==0:\n",
    "        res=1\n",
    "    else:\n",
    "        res=n*factorial(n-1)\n",
    "    return res"
   ]
  },
  {
   "cell_type": "code",
   "execution_count": 92,
   "id": "cfde90c5-a27a-4f0e-942e-242932b8ffc1",
   "metadata": {},
   "outputs": [
    {
     "data": {
      "text/plain": [
       "120"
      ]
     },
     "execution_count": 92,
     "metadata": {},
     "output_type": "execute_result"
    }
   ],
   "source": [
    "factorial(5)"
   ]
  },
  {
   "cell_type": "code",
   "execution_count": 93,
   "id": "05e7d448-827e-43dd-8b56-e4a896969f08",
   "metadata": {},
   "outputs": [],
   "source": [
    "comb=factorial(tot)/(factorial(tot-epc)*factorial(epc))"
   ]
  },
  {
   "cell_type": "code",
   "execution_count": 94,
   "id": "5cc9ca70-4404-4e1a-abeb-0953b4ca9d4e",
   "metadata": {},
   "outputs": [
    {
     "data": {
      "text/plain": [
       "6.731329745065802e+23"
      ]
     },
     "execution_count": 94,
     "metadata": {},
     "output_type": "execute_result"
    }
   ],
   "source": [
    "comb"
   ]
  },
  {
   "cell_type": "code",
   "execution_count": 95,
   "id": "a4e208d7-5c1f-4a5f-abb4-e836aa3783e4",
   "metadata": {},
   "outputs": [],
   "source": [
    "dj=factorial(tot-jj)/(factorial((tot-jj)-(epc-jj))*factorial(epc-jj))"
   ]
  },
  {
   "cell_type": "code",
   "execution_count": 96,
   "id": "55811383-754d-44c1-90a9-383f8212ebe0",
   "metadata": {},
   "outputs": [
    {
     "data": {
      "text/plain": [
       "7.311182120108923e+22"
      ]
     },
     "execution_count": 96,
     "metadata": {},
     "output_type": "execute_result"
    }
   ],
   "source": [
    "dj"
   ]
  },
  {
   "cell_type": "code",
   "execution_count": 97,
   "id": "16157402-1346-45f5-ba5f-29237b01cb1d",
   "metadata": {},
   "outputs": [
    {
     "name": "stdout",
     "output_type": "stream",
     "text": [
      "La probabilidad de que Jpe y Jane estén juntos es de: 32.58%\n"
     ]
    }
   ],
   "source": [
    "print(f'La probabilidad de que Jpe y Jane estén juntos es de: {np.round(3*(dj/comb)*100,2)}%')"
   ]
  },
  {
   "cell_type": "code",
   "execution_count": 116,
   "id": "3f6f1b18-20e7-4337-8ab6-784bda7db566",
   "metadata": {},
   "outputs": [
    {
     "name": "stdout",
     "output_type": "stream",
     "text": [
      "La probabilidad de que cada jugador posea un As es de : 10.55%\n"
     ]
    }
   ],
   "source": [
    "#Ejercicio 8.4\n",
    "tot=52\n",
    "manos=4\n",
    "cpm=tot/manos\n",
    "As=1\n",
    "\n",
    "comb=factorial(tot)/(factorial(manos)*factorial(tot-manos))\n",
    "As=factorial(cpm)/(factorial(As)*(factorial(cpm-As)))\n",
    "#np.round((As**manos/comb)*100,2)\n",
    "print(f'La probabilidad de que cada jugador posea un As es de : {np.round((As**manos/comb)*100,2)}%')"
   ]
  },
  {
   "cell_type": "code",
   "execution_count": 115,
   "id": "187232fb-e5d0-4bfa-8a75-e15ecaa0c144",
   "metadata": {},
   "outputs": [],
   "source": []
  },
  {
   "cell_type": "code",
   "execution_count": null,
   "id": "b44fb6d7-45b3-4786-8060-d70431f1b611",
   "metadata": {},
   "outputs": [],
   "source": []
  }
 ],
 "metadata": {
  "kernelspec": {
   "display_name": "Python 3",
   "language": "python",
   "name": "python3"
  },
  "language_info": {
   "codemirror_mode": {
    "name": "ipython",
    "version": 3
   },
   "file_extension": ".py",
   "mimetype": "text/x-python",
   "name": "python",
   "nbconvert_exporter": "python",
   "pygments_lexer": "ipython3",
   "version": "3.6.13"
  }
 },
 "nbformat": 4,
 "nbformat_minor": 5
}
